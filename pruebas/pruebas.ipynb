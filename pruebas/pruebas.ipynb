{
 "cells": [
  {
   "cell_type": "code",
   "execution_count": 1,
   "metadata": {},
   "outputs": [],
   "source": [
    "# Pruebas para la media movil python"
   ]
  },
  {
   "cell_type": "code",
   "execution_count": 4,
   "metadata": {},
   "outputs": [
    {
     "data": {
      "text/html": [
       "<div>\n",
       "<style scoped>\n",
       "    .dataframe tbody tr th:only-of-type {\n",
       "        vertical-align: middle;\n",
       "    }\n",
       "\n",
       "    .dataframe tbody tr th {\n",
       "        vertical-align: top;\n",
       "    }\n",
       "\n",
       "    .dataframe thead th {\n",
       "        text-align: right;\n",
       "    }\n",
       "</style>\n",
       "<table border=\"1\" class=\"dataframe\">\n",
       "  <thead>\n",
       "    <tr style=\"text-align: right;\">\n",
       "      <th></th>\n",
       "      <th>Close</th>\n",
       "    </tr>\n",
       "    <tr>\n",
       "      <th>datetime</th>\n",
       "      <th></th>\n",
       "    </tr>\n",
       "  </thead>\n",
       "  <tbody>\n",
       "    <tr>\n",
       "      <th>2018-06-20</th>\n",
       "      <td>186.5000</td>\n",
       "    </tr>\n",
       "    <tr>\n",
       "      <th>2018-06-21</th>\n",
       "      <td>185.4600</td>\n",
       "    </tr>\n",
       "    <tr>\n",
       "      <th>2018-06-22</th>\n",
       "      <td>184.9200</td>\n",
       "    </tr>\n",
       "    <tr>\n",
       "      <th>2018-06-25</th>\n",
       "      <td>182.1700</td>\n",
       "    </tr>\n",
       "    <tr>\n",
       "      <th>2018-06-26</th>\n",
       "      <td>184.4300</td>\n",
       "    </tr>\n",
       "  </tbody>\n",
       "</table>\n",
       "</div>"
      ],
      "text/plain": [
       "               Close\n",
       "datetime            \n",
       "2018-06-20  186.5000\n",
       "2018-06-21  185.4600\n",
       "2018-06-22  184.9200\n",
       "2018-06-25  182.1700\n",
       "2018-06-26  184.4300"
      ]
     },
     "execution_count": 4,
     "metadata": {},
     "output_type": "execute_result"
    }
   ],
   "source": [
    "import requests\n",
    "import csv\n",
    "import pandas as pd\n",
    "import matplotlib.pyplot as plt\n",
    "%matplotlib inline\n",
    "\n",
    "url =\"https://www.alphavantage.co/query\"\n",
    "\n",
    "params = {\n",
    "    \"function\":\"TIME_SERIES_DAILY_ADJUSTED\",\n",
    "    \"symbol\": \"AAPL\",\n",
    "    \"apikey\": \"TU10HCWDTV5CNVBN\"\n",
    "}\n",
    "\n",
    "response = requests.get(url, params=params)\n",
    "data = response.json()\n",
    "\n",
    "def convert_response(d):\n",
    "    for dt, prec in d['Time Series (Daily)'].items():\n",
    "        r = {'datetime': dt}\n",
    "        r.update(prec)\n",
    "        yield r\n",
    "\n",
    "df = pd.DataFrame(convert_response(data))\n",
    "# rename the columns    \n",
    "df = df.rename(columns={ '1. open': 'Open', '2. high': 'High', '3. low': 'Low', '4. close': 'Close', '5. adjusted close': 'AdjClose', '6. volume': 'Volume'})\n",
    "df['datetime'] = pd.to_datetime(df['datetime'])\n",
    "df.set_index('datetime', inplace=True)\n",
    "df.sort_index(inplace=True)\n",
    "# extract the columns you want\n",
    "df = df[[ 'Close']]\n",
    "df.head()\n",
    "\n"
   ]
  },
  {
   "cell_type": "code",
   "execution_count": 147,
   "metadata": {},
   "outputs": [],
   "source": [
    "df.dropna(inplace=True)\n",
    "df.index = pd.to_datetime(df.index)\n",
    "df['6-SMA']=df['Close'].rolling(window=6).mean()\n",
    "df['12-SMA']=df['Close'].rolling(window=12).mean()"
   ]
  },
  {
   "cell_type": "code",
   "execution_count": 148,
   "metadata": {},
   "outputs": [
    {
     "data": {
      "text/html": [
       "<div>\n",
       "<style scoped>\n",
       "    .dataframe tbody tr th:only-of-type {\n",
       "        vertical-align: middle;\n",
       "    }\n",
       "\n",
       "    .dataframe tbody tr th {\n",
       "        vertical-align: top;\n",
       "    }\n",
       "\n",
       "    .dataframe thead th {\n",
       "        text-align: right;\n",
       "    }\n",
       "</style>\n",
       "<table border=\"1\" class=\"dataframe\">\n",
       "  <thead>\n",
       "    <tr style=\"text-align: right;\">\n",
       "      <th></th>\n",
       "      <th>Open</th>\n",
       "      <th>High</th>\n",
       "      <th>Low</th>\n",
       "      <th>Close</th>\n",
       "      <th>AdjClose</th>\n",
       "      <th>Volume</th>\n",
       "      <th>6-SMA</th>\n",
       "      <th>12-SMA</th>\n",
       "    </tr>\n",
       "    <tr>\n",
       "      <th>datetime</th>\n",
       "      <th></th>\n",
       "      <th></th>\n",
       "      <th></th>\n",
       "      <th></th>\n",
       "      <th></th>\n",
       "      <th></th>\n",
       "      <th></th>\n",
       "      <th></th>\n",
       "    </tr>\n",
       "  </thead>\n",
       "  <tbody>\n",
       "    <tr>\n",
       "      <th>2018-05-09</th>\n",
       "      <td>186.5500</td>\n",
       "      <td>187.4000</td>\n",
       "      <td>185.2200</td>\n",
       "      <td>187.3600</td>\n",
       "      <td>185.9833</td>\n",
       "      <td>23211241</td>\n",
       "      <td>NaN</td>\n",
       "      <td>NaN</td>\n",
       "    </tr>\n",
       "    <tr>\n",
       "      <th>2018-05-10</th>\n",
       "      <td>187.7400</td>\n",
       "      <td>190.3700</td>\n",
       "      <td>187.6500</td>\n",
       "      <td>190.0400</td>\n",
       "      <td>188.6437</td>\n",
       "      <td>27989289</td>\n",
       "      <td>NaN</td>\n",
       "      <td>NaN</td>\n",
       "    </tr>\n",
       "    <tr>\n",
       "      <th>2018-05-11</th>\n",
       "      <td>189.4900</td>\n",
       "      <td>190.0600</td>\n",
       "      <td>187.4500</td>\n",
       "      <td>188.5900</td>\n",
       "      <td>187.9289</td>\n",
       "      <td>26212221</td>\n",
       "      <td>NaN</td>\n",
       "      <td>NaN</td>\n",
       "    </tr>\n",
       "    <tr>\n",
       "      <th>2018-05-14</th>\n",
       "      <td>189.0100</td>\n",
       "      <td>189.5300</td>\n",
       "      <td>187.8600</td>\n",
       "      <td>188.1500</td>\n",
       "      <td>187.4905</td>\n",
       "      <td>20778772</td>\n",
       "      <td>NaN</td>\n",
       "      <td>NaN</td>\n",
       "    </tr>\n",
       "    <tr>\n",
       "      <th>2018-05-15</th>\n",
       "      <td>186.7800</td>\n",
       "      <td>187.0700</td>\n",
       "      <td>185.1000</td>\n",
       "      <td>186.4400</td>\n",
       "      <td>185.7865</td>\n",
       "      <td>23695159</td>\n",
       "      <td>NaN</td>\n",
       "      <td>NaN</td>\n",
       "    </tr>\n",
       "  </tbody>\n",
       "</table>\n",
       "</div>"
      ],
      "text/plain": [
       "                Open      High       Low     Close  AdjClose    Volume  6-SMA  \\\n",
       "datetime                                                                        \n",
       "2018-05-09  186.5500  187.4000  185.2200  187.3600  185.9833  23211241    NaN   \n",
       "2018-05-10  187.7400  190.3700  187.6500  190.0400  188.6437  27989289    NaN   \n",
       "2018-05-11  189.4900  190.0600  187.4500  188.5900  187.9289  26212221    NaN   \n",
       "2018-05-14  189.0100  189.5300  187.8600  188.1500  187.4905  20778772    NaN   \n",
       "2018-05-15  186.7800  187.0700  185.1000  186.4400  185.7865  23695159    NaN   \n",
       "\n",
       "            12-SMA  \n",
       "datetime            \n",
       "2018-05-09     NaN  \n",
       "2018-05-10     NaN  \n",
       "2018-05-11     NaN  \n",
       "2018-05-14     NaN  \n",
       "2018-05-15     NaN  "
      ]
     },
     "execution_count": 148,
     "metadata": {},
     "output_type": "execute_result"
    }
   ],
   "source": [
    "df.head()"
   ]
  },
  {
   "cell_type": "code",
   "execution_count": 149,
   "metadata": {},
   "outputs": [
    {
     "data": {
      "text/html": [
       "<div>\n",
       "<style scoped>\n",
       "    .dataframe tbody tr th:only-of-type {\n",
       "        vertical-align: middle;\n",
       "    }\n",
       "\n",
       "    .dataframe tbody tr th {\n",
       "        vertical-align: top;\n",
       "    }\n",
       "\n",
       "    .dataframe thead th {\n",
       "        text-align: right;\n",
       "    }\n",
       "</style>\n",
       "<table border=\"1\" class=\"dataframe\">\n",
       "  <thead>\n",
       "    <tr style=\"text-align: right;\">\n",
       "      <th></th>\n",
       "      <th>Open</th>\n",
       "      <th>High</th>\n",
       "      <th>Low</th>\n",
       "      <th>Close</th>\n",
       "      <th>AdjClose</th>\n",
       "      <th>Volume</th>\n",
       "      <th>6-SMA</th>\n",
       "      <th>12-SMA</th>\n",
       "    </tr>\n",
       "    <tr>\n",
       "      <th>datetime</th>\n",
       "      <th></th>\n",
       "      <th></th>\n",
       "      <th></th>\n",
       "      <th></th>\n",
       "      <th></th>\n",
       "      <th></th>\n",
       "      <th></th>\n",
       "      <th></th>\n",
       "    </tr>\n",
       "  </thead>\n",
       "  <tbody>\n",
       "    <tr>\n",
       "      <th>2018-09-24</th>\n",
       "      <td>216.8200</td>\n",
       "      <td>221.2600</td>\n",
       "      <td>216.6300</td>\n",
       "      <td>220.7900</td>\n",
       "      <td>220.7900</td>\n",
       "      <td>27693358</td>\n",
       "      <td>218.828333</td>\n",
       "      <td>220.647500</td>\n",
       "    </tr>\n",
       "    <tr>\n",
       "      <th>2018-09-25</th>\n",
       "      <td>219.7500</td>\n",
       "      <td>222.8200</td>\n",
       "      <td>219.7000</td>\n",
       "      <td>222.1900</td>\n",
       "      <td>222.1900</td>\n",
       "      <td>24554379</td>\n",
       "      <td>219.546667</td>\n",
       "      <td>220.721667</td>\n",
       "    </tr>\n",
       "    <tr>\n",
       "      <th>2018-09-26</th>\n",
       "      <td>221.0000</td>\n",
       "      <td>223.7500</td>\n",
       "      <td>219.7600</td>\n",
       "      <td>220.4200</td>\n",
       "      <td>220.4200</td>\n",
       "      <td>23984706</td>\n",
       "      <td>219.910000</td>\n",
       "      <td>220.895833</td>\n",
       "    </tr>\n",
       "    <tr>\n",
       "      <th>2018-09-27</th>\n",
       "      <td>223.8200</td>\n",
       "      <td>226.4400</td>\n",
       "      <td>223.5400</td>\n",
       "      <td>224.9500</td>\n",
       "      <td>224.9500</td>\n",
       "      <td>30181227</td>\n",
       "      <td>221.006667</td>\n",
       "      <td>220.987500</td>\n",
       "    </tr>\n",
       "    <tr>\n",
       "      <th>2018-09-28</th>\n",
       "      <td>224.7900</td>\n",
       "      <td>225.8400</td>\n",
       "      <td>224.0200</td>\n",
       "      <td>225.7400</td>\n",
       "      <td>225.7400</td>\n",
       "      <td>22929364</td>\n",
       "      <td>221.958333</td>\n",
       "      <td>221.376667</td>\n",
       "    </tr>\n",
       "  </tbody>\n",
       "</table>\n",
       "</div>"
      ],
      "text/plain": [
       "                Open      High       Low     Close  AdjClose    Volume  \\\n",
       "datetime                                                                 \n",
       "2018-09-24  216.8200  221.2600  216.6300  220.7900  220.7900  27693358   \n",
       "2018-09-25  219.7500  222.8200  219.7000  222.1900  222.1900  24554379   \n",
       "2018-09-26  221.0000  223.7500  219.7600  220.4200  220.4200  23984706   \n",
       "2018-09-27  223.8200  226.4400  223.5400  224.9500  224.9500  30181227   \n",
       "2018-09-28  224.7900  225.8400  224.0200  225.7400  225.7400  22929364   \n",
       "\n",
       "                 6-SMA      12-SMA  \n",
       "datetime                            \n",
       "2018-09-24  218.828333  220.647500  \n",
       "2018-09-25  219.546667  220.721667  \n",
       "2018-09-26  219.910000  220.895833  \n",
       "2018-09-27  221.006667  220.987500  \n",
       "2018-09-28  221.958333  221.376667  "
      ]
     },
     "execution_count": 149,
     "metadata": {},
     "output_type": "execute_result"
    }
   ],
   "source": [
    "df.tail()"
   ]
  },
  {
   "cell_type": "code",
   "execution_count": 150,
   "metadata": {},
   "outputs": [
    {
     "data": {
      "text/plain": [
       "\"\\nax = plt.gca()\\ndf.plot(kind='line', x='datetime', y='Close', ax=ax)\\nplt.show()\\n\""
      ]
     },
     "execution_count": 150,
     "metadata": {},
     "output_type": "execute_result"
    },
    {
     "data": {
      "image/png": "[encoded data removed]",
      "text/plain": [
       "<Figure size 1152x576 with 1 Axes>"
      ]
     },
     "metadata": {},
     "output_type": "display_data"
    }
   ],
   "source": [
    "df.plot(figsize=(16,8))\n",
    "\"\"\"\n",
    "ax = plt.gca()\n",
    "df.plot(kind='line', x='datetime', y='Close', ax=ax)\n",
    "plt.show()\n",
    "\"\"\""
   ]
  },
  {
   "cell_type": "code",
   "execution_count": 2,
   "metadata": {},
   "outputs": [],
   "source": [
    "# aqui inicia el arima "
   ]
  },
  {
   "cell_type": "code",
   "execution_count": 5,
   "metadata": {},
   "outputs": [
    {
     "data": {
      "text/html": [
       "<div>\n",
       "<style scoped>\n",
       "    .dataframe tbody tr th:only-of-type {\n",
       "        vertical-align: middle;\n",
       "    }\n",
       "\n",
       "    .dataframe tbody tr th {\n",
       "        vertical-align: top;\n",
       "    }\n",
       "\n",
       "    .dataframe thead th {\n",
       "        text-align: right;\n",
       "    }\n",
       "</style>\n",
       "<table border=\"1\" class=\"dataframe\">\n",
       "  <thead>\n",
       "    <tr style=\"text-align: right;\">\n",
       "      <th></th>\n",
       "      <th>count</th>\n",
       "      <th>unique</th>\n",
       "      <th>top</th>\n",
       "      <th>freq</th>\n",
       "    </tr>\n",
       "  </thead>\n",
       "  <tbody>\n",
       "    <tr>\n",
       "      <th>Close</th>\n",
       "      <td>100</td>\n",
       "      <td>99</td>\n",
       "      <td>226.8700</td>\n",
       "      <td>2</td>\n",
       "    </tr>\n",
       "  </tbody>\n",
       "</table>\n",
       "</div>"
      ],
      "text/plain": [
       "      count unique       top freq\n",
       "Close   100     99  226.8700    2"
      ]
     },
     "execution_count": 5,
     "metadata": {},
     "output_type": "execute_result"
    }
   ],
   "source": [
    "df.describe().transpose()"
   ]
  },
  {
   "cell_type": "code",
   "execution_count": 10,
   "metadata": {},
   "outputs": [],
   "source": [
    "from statsmodels.tsa.arima_model import ARIMA\n",
    "import statsmodels.api as sm"
   ]
  },
  {
   "cell_type": "code",
   "execution_count": 14,
   "metadata": {},
   "outputs": [
    {
     "name": "stdout",
     "output_type": "stream",
     "text": [
      "                                 Statespace Model Results                                 \n",
      "==========================================================================================\n",
      "Dep. Variable:                              Close   No. Observations:                  100\n",
      "Model:             SARIMAX(0, 1, 0)x(1, 1, 1, 12)   Log Likelihood                -247.719\n",
      "Date:                            Thu, 08 Nov 2018   AIC                            501.439\n",
      "Time:                                    22:18:52   BIC                            508.837\n",
      "Sample:                                         0   HQIC                           504.418\n",
      "                                            - 100                                         \n",
      "Covariance Type:                              opg                                         \n",
      "==============================================================================\n",
      "                 coef    std err          z      P>|z|      [0.025      0.975]\n",
      "------------------------------------------------------------------------------\n",
      "ar.S.L12       0.0853      0.212      0.401      0.688      -0.331       0.502\n",
      "ma.S.L12      -0.7056      0.236     -2.988      0.003      -1.168      -0.243\n",
      "sigma2        16.0916      1.662      9.684      0.000      12.835      19.348\n",
      "===================================================================================\n",
      "Ljung-Box (Q):                       36.91   Jarque-Bera (JB):                25.42\n",
      "Prob(Q):                              0.61   Prob(JB):                         0.00\n",
      "Heteroskedasticity (H):               4.00   Skew:                            -0.62\n",
      "Prob(H) (two-sided):                  0.00   Kurtosis:                         5.34\n",
      "===================================================================================\n",
      "\n",
      "Warnings:\n",
      "[1] Covariance matrix calculated using the outer product of gradients (complex-step).\n"
     ]
    },
    {
     "name": "stderr",
     "output_type": "stream",
     "text": [
      "/anaconda3/lib/python3.6/site-packages/statsmodels/tsa/base/tsa_model.py:225: ValueWarning: A date index has been provided, but it has no associated frequency information and so will be ignored when e.g. forecasting.\n",
      "  ' ignored when e.g. forecasting.', ValueWarning)\n"
     ]
    }
   ],
   "source": [
    "model = sm.tsa.statespace.SARIMAX(df['Close'].astype(float), order=(0,1,0), seasonal_order=(1,1,1,12))\n",
    "results = model.fit()\n",
    "print(results.summary())"
   ]
  },
  {
   "cell_type": "code",
   "execution_count": 15,
   "metadata": {},
   "outputs": [
    {
     "data": {
      "text/plain": [
       "<matplotlib.axes._subplots.AxesSubplot at 0x1c1ea15f60>"
      ]
     },
     "execution_count": 15,
     "metadata": {},
     "output_type": "execute_result"
    },
    {
     "data": {
      "image/png": "[encoded data removed]",
      "text/plain": [
       "<Figure size 432x288 with 1 Axes>"
      ]
     },
     "metadata": {},
     "output_type": "display_data"
    }
   ],
   "source": [
    "results.resid.plot()"
   ]
  },
  {
   "cell_type": "code",
   "execution_count": 16,
   "metadata": {},
   "outputs": [
    {
     "data": {
      "text/plain": [
       "<matplotlib.axes._subplots.AxesSubplot at 0x1c1eac07f0>"
      ]
     },
     "execution_count": 16,
     "metadata": {},
     "output_type": "execute_result"
    },
    {
     "data": {
      "image/png": "[encoded data removed]",
      "text/plain": [
       "<Figure size 432x288 with 1 Axes>"
      ]
     },
     "metadata": {},
     "output_type": "display_data"
    }
   ],
   "source": [
    "results.resid.plot(kind='kde')"
   ]
  },
  {
   "cell_type": "code",
   "execution_count": 33,
   "metadata": {},
   "outputs": [
    {
     "ename": "TypeError",
     "evalue": "ufunc 'isfinite' not supported for the input types, and the inputs could not be safely coerced to any supported types according to the casting rule ''safe''",
     "output_type": "error",
     "traceback": [
      "\u001b[0;31m---------------------------------------------------------------------------\u001b[0m",
      "\u001b[0;31mTypeError\u001b[0m                                 Traceback (most recent call last)",
      "\u001b[0;32m<ipython-input-33-7331af72649c>\u001b[0m in \u001b[0;36m<module>\u001b[0;34m()\u001b[0m\n\u001b[1;32m      1\u001b[0m \u001b[0;32mfrom\u001b[0m \u001b[0mstatsmodels\u001b[0m\u001b[0;34m.\u001b[0m\u001b[0mtsa\u001b[0m\u001b[0;34m.\u001b[0m\u001b[0mseasonal\u001b[0m \u001b[0;32mimport\u001b[0m \u001b[0mseasonal_decompose\u001b[0m\u001b[0;34m\u001b[0m\u001b[0m\n\u001b[0;32m----> 2\u001b[0;31m \u001b[0mdecomposition\u001b[0m \u001b[0;34m=\u001b[0m \u001b[0mseasonal_decompose\u001b[0m\u001b[0;34m(\u001b[0m\u001b[0mdf\u001b[0m\u001b[0;34m[\u001b[0m\u001b[0;34m'Close'\u001b[0m\u001b[0;34m]\u001b[0m\u001b[0;34m,\u001b[0m \u001b[0mfreq\u001b[0m\u001b[0;34m=\u001b[0m\u001b[0;36m12\u001b[0m\u001b[0;34m)\u001b[0m\u001b[0;34m\u001b[0m\u001b[0m\n\u001b[0m\u001b[1;32m      3\u001b[0m \u001b[0mfig\u001b[0m \u001b[0;34m=\u001b[0m \u001b[0mplt\u001b[0m\u001b[0;34m.\u001b[0m\u001b[0mfigure\u001b[0m\u001b[0;34m(\u001b[0m\u001b[0;34m)\u001b[0m\u001b[0;34m\u001b[0m\u001b[0m\n\u001b[1;32m      4\u001b[0m \u001b[0mfig\u001b[0m \u001b[0;34m=\u001b[0m \u001b[0mdecomposition\u001b[0m\u001b[0;34m.\u001b[0m\u001b[0mplot\u001b[0m\u001b[0;34m(\u001b[0m\u001b[0;34m)\u001b[0m\u001b[0;34m\u001b[0m\u001b[0m\n\u001b[1;32m      5\u001b[0m \u001b[0mfig\u001b[0m\u001b[0;34m.\u001b[0m\u001b[0mset_size_inches\u001b[0m\u001b[0;34m(\u001b[0m\u001b[0;36m15\u001b[0m\u001b[0;34m,\u001b[0m \u001b[0;36m8\u001b[0m\u001b[0;34m)\u001b[0m\u001b[0;34m\u001b[0m\u001b[0m\n",
      "\u001b[0;32m/anaconda3/lib/python3.6/site-packages/statsmodels/tsa/seasonal.py\u001b[0m in \u001b[0;36mseasonal_decompose\u001b[0;34m(x, model, filt, freq, two_sided, extrapolate_trend)\u001b[0m\n\u001b[1;32m    113\u001b[0m     \u001b[0mnobs\u001b[0m \u001b[0;34m=\u001b[0m \u001b[0mlen\u001b[0m\u001b[0;34m(\u001b[0m\u001b[0mx\u001b[0m\u001b[0;34m)\u001b[0m\u001b[0;34m\u001b[0m\u001b[0m\n\u001b[1;32m    114\u001b[0m \u001b[0;34m\u001b[0m\u001b[0m\n\u001b[0;32m--> 115\u001b[0;31m     \u001b[0;32mif\u001b[0m \u001b[0;32mnot\u001b[0m \u001b[0mnp\u001b[0m\u001b[0;34m.\u001b[0m\u001b[0mall\u001b[0m\u001b[0;34m(\u001b[0m\u001b[0mnp\u001b[0m\u001b[0;34m.\u001b[0m\u001b[0misfinite\u001b[0m\u001b[0;34m(\u001b[0m\u001b[0mx\u001b[0m\u001b[0;34m)\u001b[0m\u001b[0;34m)\u001b[0m\u001b[0;34m:\u001b[0m\u001b[0;34m\u001b[0m\u001b[0m\n\u001b[0m\u001b[1;32m    116\u001b[0m         \u001b[0;32mraise\u001b[0m \u001b[0mValueError\u001b[0m\u001b[0;34m(\u001b[0m\u001b[0;34m\"This function does not handle missing values\"\u001b[0m\u001b[0;34m)\u001b[0m\u001b[0;34m\u001b[0m\u001b[0m\n\u001b[1;32m    117\u001b[0m     \u001b[0;32mif\u001b[0m \u001b[0mmodel\u001b[0m\u001b[0;34m.\u001b[0m\u001b[0mstartswith\u001b[0m\u001b[0;34m(\u001b[0m\u001b[0;34m'm'\u001b[0m\u001b[0;34m)\u001b[0m\u001b[0;34m:\u001b[0m\u001b[0;34m\u001b[0m\u001b[0m\n",
      "\u001b[0;31mTypeError\u001b[0m: ufunc 'isfinite' not supported for the input types, and the inputs could not be safely coerced to any supported types according to the casting rule ''safe''"
     ]
    }
   ],
   "source": []
  },
  {
   "cell_type": "code",
   "execution_count": 29,
   "metadata": {},
   "outputs": [
    {
     "name": "stderr",
     "output_type": "stream",
     "text": [
      "/anaconda3/lib/python3.6/site-packages/statsmodels/tsa/base/tsa_model.py:531: ValueWarning: No supported index is available. Prediction results will be given with an integer index beginning at `start`.\n",
      "  ValueWarning)\n"
     ]
    }
   ],
   "source": [
    "df['forecast'] = results.predict(start= 90, end = 101, dynamic= True)\n"
   ]
  },
  {
   "cell_type": "code",
   "execution_count": 32,
   "metadata": {},
   "outputs": [
    {
     "name": "stdout",
     "output_type": "stream",
     "text": [
      "datetime\n",
      "2018-06-20   NaN\n",
      "2018-06-21   NaN\n",
      "2018-06-22   NaN\n",
      "2018-06-25   NaN\n",
      "2018-06-26   NaN\n",
      "2018-06-27   NaN\n",
      "2018-06-28   NaN\n",
      "2018-06-29   NaN\n",
      "2018-07-02   NaN\n",
      "2018-07-03   NaN\n",
      "2018-07-05   NaN\n",
      "2018-07-06   NaN\n",
      "2018-07-09   NaN\n",
      "2018-07-10   NaN\n",
      "2018-07-11   NaN\n",
      "2018-07-12   NaN\n",
      "2018-07-13   NaN\n",
      "2018-07-16   NaN\n",
      "2018-07-17   NaN\n",
      "2018-07-18   NaN\n",
      "2018-07-19   NaN\n",
      "2018-07-20   NaN\n",
      "2018-07-23   NaN\n",
      "2018-07-24   NaN\n",
      "2018-07-25   NaN\n",
      "2018-07-26   NaN\n",
      "2018-07-27   NaN\n",
      "2018-07-30   NaN\n",
      "2018-07-31   NaN\n",
      "2018-08-01   NaN\n",
      "              ..\n",
      "2018-09-28   NaN\n",
      "2018-10-01   NaN\n",
      "2018-10-02   NaN\n",
      "2018-10-03   NaN\n",
      "2018-10-04   NaN\n",
      "2018-10-05   NaN\n",
      "2018-10-08   NaN\n",
      "2018-10-09   NaN\n",
      "2018-10-10   NaN\n",
      "2018-10-11   NaN\n",
      "2018-10-12   NaN\n",
      "2018-10-15   NaN\n",
      "2018-10-16   NaN\n",
      "2018-10-17   NaN\n",
      "2018-10-18   NaN\n",
      "2018-10-19   NaN\n",
      "2018-10-22   NaN\n",
      "2018-10-23   NaN\n",
      "2018-10-24   NaN\n",
      "2018-10-25   NaN\n",
      "2018-10-26   NaN\n",
      "2018-10-29   NaN\n",
      "2018-10-30   NaN\n",
      "2018-10-31   NaN\n",
      "2018-11-01   NaN\n",
      "2018-11-02   NaN\n",
      "2018-11-05   NaN\n",
      "2018-11-06   NaN\n",
      "2018-11-07   NaN\n",
      "2018-11-08   NaN\n",
      "Name: forecast, Length: 100, dtype: float64\n"
     ]
    }
   ],
   "source": [
    "\n",
    "print(df['forecast'])"
   ]
  },
  {
   "cell_type": "code",
   "execution_count": 31,
   "metadata": {},
   "outputs": [
    {
     "data": {
      "text/html": [
       "<div>\n",
       "<style scoped>\n",
       "    .dataframe tbody tr th:only-of-type {\n",
       "        vertical-align: middle;\n",
       "    }\n",
       "\n",
       "    .dataframe tbody tr th {\n",
       "        vertical-align: top;\n",
       "    }\n",
       "\n",
       "    .dataframe thead th {\n",
       "        text-align: right;\n",
       "    }\n",
       "</style>\n",
       "<table border=\"1\" class=\"dataframe\">\n",
       "  <thead>\n",
       "    <tr style=\"text-align: right;\">\n",
       "      <th></th>\n",
       "      <th>Close</th>\n",
       "      <th>forecast</th>\n",
       "    </tr>\n",
       "    <tr>\n",
       "      <th>datetime</th>\n",
       "      <th></th>\n",
       "      <th></th>\n",
       "    </tr>\n",
       "  </thead>\n",
       "  <tbody>\n",
       "    <tr>\n",
       "      <th>2018-06-20</th>\n",
       "      <td>186.5000</td>\n",
       "      <td>NaN</td>\n",
       "    </tr>\n",
       "    <tr>\n",
       "      <th>2018-06-21</th>\n",
       "      <td>185.4600</td>\n",
       "      <td>NaN</td>\n",
       "    </tr>\n",
       "    <tr>\n",
       "      <th>2018-06-22</th>\n",
       "      <td>184.9200</td>\n",
       "      <td>NaN</td>\n",
       "    </tr>\n",
       "    <tr>\n",
       "      <th>2018-06-25</th>\n",
       "      <td>182.1700</td>\n",
       "      <td>NaN</td>\n",
       "    </tr>\n",
       "    <tr>\n",
       "      <th>2018-06-26</th>\n",
       "      <td>184.4300</td>\n",
       "      <td>NaN</td>\n",
       "    </tr>\n",
       "  </tbody>\n",
       "</table>\n",
       "</div>"
      ],
      "text/plain": [
       "               Close  forecast\n",
       "datetime                      \n",
       "2018-06-20  186.5000       NaN\n",
       "2018-06-21  185.4600       NaN\n",
       "2018-06-22  184.9200       NaN\n",
       "2018-06-25  182.1700       NaN\n",
       "2018-06-26  184.4300       NaN"
      ]
     },
     "execution_count": 31,
     "metadata": {},
     "output_type": "execute_result"
    }
   ],
   "source": [
    "df.head()"
   ]
  },
  {
   "cell_type": "code",
   "execution_count": null,
   "metadata": {},
   "outputs": [],
   "source": []
  }
 ],
 "metadata": {
  "kernelspec": {
   "display_name": "Python 3",
   "language": "python",
   "name": "python3"
  },
  "language_info": {
   "codemirror_mode": {
    "name": "ipython",
    "version": 3
   },
   "file_extension": ".py",
   "mimetype": "text/x-python",
   "name": "python",
   "nbconvert_exporter": "python",
   "pygments_lexer": "ipython3",
   "version": "3.6.5"
  }
 },
 "nbformat": 4,
 "nbformat_minor": 2
}
