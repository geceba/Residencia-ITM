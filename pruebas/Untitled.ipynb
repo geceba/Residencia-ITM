{
 "cells": [
  {
   "cell_type": "code",
   "execution_count": 1,
   "metadata": {},
   "outputs": [],
   "source": [
    "import numpy as np\n",
    "import pandas as pd"
   ]
  },
  {
   "cell_type": "code",
   "execution_count": 2,
   "metadata": {},
   "outputs": [],
   "source": [
    "df = pd.read_csv('weekly_MSFT.csv')"
   ]
  },
  {
   "cell_type": "code",
   "execution_count": 3,
   "metadata": {},
   "outputs": [
    {
     "data": {
      "text/html": [
       "<div>\n",
       "<style scoped>\n",
       "    .dataframe tbody tr th:only-of-type {\n",
       "        vertical-align: middle;\n",
       "    }\n",
       "\n",
       "    .dataframe tbody tr th {\n",
       "        vertical-align: top;\n",
       "    }\n",
       "\n",
       "    .dataframe thead th {\n",
       "        text-align: right;\n",
       "    }\n",
       "</style>\n",
       "<table border=\"1\" class=\"dataframe\">\n",
       "  <thead>\n",
       "    <tr style=\"text-align: right;\">\n",
       "      <th></th>\n",
       "      <th>timestamp</th>\n",
       "      <th>open</th>\n",
       "      <th>high</th>\n",
       "      <th>low</th>\n",
       "      <th>close</th>\n",
       "      <th>volume</th>\n",
       "    </tr>\n",
       "  </thead>\n",
       "  <tbody>\n",
       "    <tr>\n",
       "      <th>0</th>\n",
       "      <td>2019-05-24</td>\n",
       "      <td>126.52</td>\n",
       "      <td>128.24</td>\n",
       "      <td>124.74</td>\n",
       "      <td>126.24</td>\n",
       "      <td>92097439</td>\n",
       "    </tr>\n",
       "    <tr>\n",
       "      <th>1</th>\n",
       "      <td>2019-05-17</td>\n",
       "      <td>124.11</td>\n",
       "      <td>130.46</td>\n",
       "      <td>123.04</td>\n",
       "      <td>128.07</td>\n",
       "      <td>139816701</td>\n",
       "    </tr>\n",
       "    <tr>\n",
       "      <th>2</th>\n",
       "      <td>2019-05-10</td>\n",
       "      <td>126.39</td>\n",
       "      <td>128.56</td>\n",
       "      <td>123.57</td>\n",
       "      <td>127.13</td>\n",
       "      <td>146827040</td>\n",
       "    </tr>\n",
       "    <tr>\n",
       "      <th>3</th>\n",
       "      <td>2019-05-03</td>\n",
       "      <td>129.90</td>\n",
       "      <td>130.70</td>\n",
       "      <td>125.52</td>\n",
       "      <td>128.90</td>\n",
       "      <td>119573665</td>\n",
       "    </tr>\n",
       "    <tr>\n",
       "      <th>4</th>\n",
       "      <td>2019-04-26</td>\n",
       "      <td>122.62</td>\n",
       "      <td>131.37</td>\n",
       "      <td>122.57</td>\n",
       "      <td>129.89</td>\n",
       "      <td>132620050</td>\n",
       "    </tr>\n",
       "  </tbody>\n",
       "</table>\n",
       "</div>"
      ],
      "text/plain": [
       "    timestamp    open    high     low   close     volume\n",
       "0  2019-05-24  126.52  128.24  124.74  126.24   92097439\n",
       "1  2019-05-17  124.11  130.46  123.04  128.07  139816701\n",
       "2  2019-05-10  126.39  128.56  123.57  127.13  146827040\n",
       "3  2019-05-03  129.90  130.70  125.52  128.90  119573665\n",
       "4  2019-04-26  122.62  131.37  122.57  129.89  132620050"
      ]
     },
     "execution_count": 3,
     "metadata": {},
     "output_type": "execute_result"
    }
   ],
   "source": [
    "df.head()"
   ]
  },
  {
   "cell_type": "code",
   "execution_count": 4,
   "metadata": {},
   "outputs": [],
   "source": [
    "df['timestamp'] = df['timestamp'].apply(pd.to_datetime)"
   ]
  },
  {
   "cell_type": "code",
   "execution_count": 5,
   "metadata": {},
   "outputs": [
    {
     "data": {
      "text/html": [
       "<div>\n",
       "<style scoped>\n",
       "    .dataframe tbody tr th:only-of-type {\n",
       "        vertical-align: middle;\n",
       "    }\n",
       "\n",
       "    .dataframe tbody tr th {\n",
       "        vertical-align: top;\n",
       "    }\n",
       "\n",
       "    .dataframe thead th {\n",
       "        text-align: right;\n",
       "    }\n",
       "</style>\n",
       "<table border=\"1\" class=\"dataframe\">\n",
       "  <thead>\n",
       "    <tr style=\"text-align: right;\">\n",
       "      <th></th>\n",
       "      <th>timestamp</th>\n",
       "      <th>open</th>\n",
       "      <th>high</th>\n",
       "      <th>low</th>\n",
       "      <th>close</th>\n",
       "      <th>volume</th>\n",
       "    </tr>\n",
       "  </thead>\n",
       "  <tbody>\n",
       "    <tr>\n",
       "      <th>0</th>\n",
       "      <td>2019-05-24</td>\n",
       "      <td>126.52</td>\n",
       "      <td>128.24</td>\n",
       "      <td>124.74</td>\n",
       "      <td>126.24</td>\n",
       "      <td>92097439</td>\n",
       "    </tr>\n",
       "    <tr>\n",
       "      <th>1</th>\n",
       "      <td>2019-05-17</td>\n",
       "      <td>124.11</td>\n",
       "      <td>130.46</td>\n",
       "      <td>123.04</td>\n",
       "      <td>128.07</td>\n",
       "      <td>139816701</td>\n",
       "    </tr>\n",
       "    <tr>\n",
       "      <th>2</th>\n",
       "      <td>2019-05-10</td>\n",
       "      <td>126.39</td>\n",
       "      <td>128.56</td>\n",
       "      <td>123.57</td>\n",
       "      <td>127.13</td>\n",
       "      <td>146827040</td>\n",
       "    </tr>\n",
       "    <tr>\n",
       "      <th>3</th>\n",
       "      <td>2019-05-03</td>\n",
       "      <td>129.90</td>\n",
       "      <td>130.70</td>\n",
       "      <td>125.52</td>\n",
       "      <td>128.90</td>\n",
       "      <td>119573665</td>\n",
       "    </tr>\n",
       "    <tr>\n",
       "      <th>4</th>\n",
       "      <td>2019-04-26</td>\n",
       "      <td>122.62</td>\n",
       "      <td>131.37</td>\n",
       "      <td>122.57</td>\n",
       "      <td>129.89</td>\n",
       "      <td>132620050</td>\n",
       "    </tr>\n",
       "  </tbody>\n",
       "</table>\n",
       "</div>"
      ],
      "text/plain": [
       "   timestamp    open    high     low   close     volume\n",
       "0 2019-05-24  126.52  128.24  124.74  126.24   92097439\n",
       "1 2019-05-17  124.11  130.46  123.04  128.07  139816701\n",
       "2 2019-05-10  126.39  128.56  123.57  127.13  146827040\n",
       "3 2019-05-03  129.90  130.70  125.52  128.90  119573665\n",
       "4 2019-04-26  122.62  131.37  122.57  129.89  132620050"
      ]
     },
     "execution_count": 5,
     "metadata": {},
     "output_type": "execute_result"
    }
   ],
   "source": [
    "df.head()"
   ]
  },
  {
   "cell_type": "code",
   "execution_count": 6,
   "metadata": {},
   "outputs": [],
   "source": [
    "df2 = df[['timestamp', 'close']]"
   ]
  },
  {
   "cell_type": "code",
   "execution_count": 7,
   "metadata": {},
   "outputs": [
    {
     "data": {
      "text/html": [
       "<div>\n",
       "<style scoped>\n",
       "    .dataframe tbody tr th:only-of-type {\n",
       "        vertical-align: middle;\n",
       "    }\n",
       "\n",
       "    .dataframe tbody tr th {\n",
       "        vertical-align: top;\n",
       "    }\n",
       "\n",
       "    .dataframe thead th {\n",
       "        text-align: right;\n",
       "    }\n",
       "</style>\n",
       "<table border=\"1\" class=\"dataframe\">\n",
       "  <thead>\n",
       "    <tr style=\"text-align: right;\">\n",
       "      <th></th>\n",
       "      <th>timestamp</th>\n",
       "      <th>close</th>\n",
       "    </tr>\n",
       "  </thead>\n",
       "  <tbody>\n",
       "    <tr>\n",
       "      <th>0</th>\n",
       "      <td>2019-05-24</td>\n",
       "      <td>126.24</td>\n",
       "    </tr>\n",
       "    <tr>\n",
       "      <th>1</th>\n",
       "      <td>2019-05-17</td>\n",
       "      <td>128.07</td>\n",
       "    </tr>\n",
       "    <tr>\n",
       "      <th>2</th>\n",
       "      <td>2019-05-10</td>\n",
       "      <td>127.13</td>\n",
       "    </tr>\n",
       "    <tr>\n",
       "      <th>3</th>\n",
       "      <td>2019-05-03</td>\n",
       "      <td>128.90</td>\n",
       "    </tr>\n",
       "    <tr>\n",
       "      <th>4</th>\n",
       "      <td>2019-04-26</td>\n",
       "      <td>129.89</td>\n",
       "    </tr>\n",
       "  </tbody>\n",
       "</table>\n",
       "</div>"
      ],
      "text/plain": [
       "   timestamp   close\n",
       "0 2019-05-24  126.24\n",
       "1 2019-05-17  128.07\n",
       "2 2019-05-10  127.13\n",
       "3 2019-05-03  128.90\n",
       "4 2019-04-26  129.89"
      ]
     },
     "execution_count": 7,
     "metadata": {},
     "output_type": "execute_result"
    }
   ],
   "source": [
    "df2.head()"
   ]
  },
  {
   "cell_type": "code",
   "execution_count": null,
   "metadata": {},
   "outputs": [],
   "source": [
    "df.set_index('datetime', inplace=True)"
   ]
  }
 ],
 "metadata": {
  "kernelspec": {
   "display_name": "Python 3",
   "language": "python",
   "name": "python3"
  },
  "language_info": {
   "codemirror_mode": {
    "name": "ipython",
    "version": 3
   },
   "file_extension": ".py",
   "mimetype": "text/x-python",
   "name": "python",
   "nbconvert_exporter": "python",
   "pygments_lexer": "ipython3",
   "version": "3.6.5"
  }
 },
 "nbformat": 4,
 "nbformat_minor": 2
}
