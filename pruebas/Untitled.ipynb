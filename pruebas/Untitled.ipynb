{
 "cells": [
  {
   "cell_type": "code",
   "execution_count": 1,
   "metadata": {},
   "outputs": [],
   "source": [
    "# Pruebas para la media movil python"
   ]
  },
  {
   "cell_type": "code",
   "execution_count": 13,
   "metadata": {},
   "outputs": [
    {
     "name": "stdout",
     "output_type": "stream",
     "text": [
      "<class 'dict'>\n",
      "<class 'list'>\n"
     ]
    },
    {
     "data": {
      "text/html": [
       "<div>\n",
       "<style scoped>\n",
       "    .dataframe tbody tr th:only-of-type {\n",
       "        vertical-align: middle;\n",
       "    }\n",
       "\n",
       "    .dataframe tbody tr th {\n",
       "        vertical-align: top;\n",
       "    }\n",
       "\n",
       "    .dataframe thead th {\n",
       "        text-align: right;\n",
       "    }\n",
       "</style>\n",
       "<table border=\"1\" class=\"dataframe\">\n",
       "  <thead>\n",
       "    <tr style=\"text-align: right;\">\n",
       "      <th></th>\n",
       "      <th>1. open</th>\n",
       "      <th>2. high</th>\n",
       "      <th>3. low</th>\n",
       "      <th>4. close</th>\n",
       "      <th>5. volume</th>\n",
       "    </tr>\n",
       "  </thead>\n",
       "  <tbody>\n",
       "    <tr>\n",
       "      <th>0</th>\n",
       "      <td>224.7900</td>\n",
       "      <td>225.8400</td>\n",
       "      <td>224.0200</td>\n",
       "      <td>225.7400</td>\n",
       "      <td>22929364</td>\n",
       "    </tr>\n",
       "    <tr>\n",
       "      <th>1</th>\n",
       "      <td>223.8200</td>\n",
       "      <td>226.4400</td>\n",
       "      <td>223.5400</td>\n",
       "      <td>224.9500</td>\n",
       "      <td>30181227</td>\n",
       "    </tr>\n",
       "    <tr>\n",
       "      <th>2</th>\n",
       "      <td>221.0000</td>\n",
       "      <td>223.7500</td>\n",
       "      <td>219.7600</td>\n",
       "      <td>220.4200</td>\n",
       "      <td>23984706</td>\n",
       "    </tr>\n",
       "    <tr>\n",
       "      <th>3</th>\n",
       "      <td>219.7500</td>\n",
       "      <td>222.8200</td>\n",
       "      <td>219.7000</td>\n",
       "      <td>222.1900</td>\n",
       "      <td>24554379</td>\n",
       "    </tr>\n",
       "    <tr>\n",
       "      <th>4</th>\n",
       "      <td>216.8200</td>\n",
       "      <td>221.2600</td>\n",
       "      <td>216.6300</td>\n",
       "      <td>220.7900</td>\n",
       "      <td>27693358</td>\n",
       "    </tr>\n",
       "  </tbody>\n",
       "</table>\n",
       "</div>"
      ],
      "text/plain": [
       "    1. open   2. high    3. low  4. close 5. volume\n",
       "0  224.7900  225.8400  224.0200  225.7400  22929364\n",
       "1  223.8200  226.4400  223.5400  224.9500  30181227\n",
       "2  221.0000  223.7500  219.7600  220.4200  23984706\n",
       "3  219.7500  222.8200  219.7000  222.1900  24554379\n",
       "4  216.8200  221.2600  216.6300  220.7900  27693358"
      ]
     },
     "execution_count": 13,
     "metadata": {},
     "output_type": "execute_result"
    }
   ],
   "source": [
    "import requests\n",
    "import csv\n",
    "import pandas as pd\n",
    "import matplotlib.pyplot as plt\n",
    "%matplotlib inline\n",
    "\n",
    "r = requests.get(\"https://www.alphavantage.co/query?function=TIME_SERIES_DAILY&symbol=AAPL&apikey=TU10HCWDTV5CNVBN\")\n",
    "\n",
    "data = r.json()\n",
    "print(type(data))\n",
    "\n",
    "dicto = []\n",
    "\n",
    "for valor in data[\"Time Series (Daily)\"]:\n",
    "\t#print(data[\"Time Series (Daily)\"][valor][\"1. open\"])\n",
    "\td = data[\"Time Series (Daily)\"][valor]\n",
    "\tdicto.append(d)\n",
    "\n",
    "print(type(dicto))\n",
    "\n",
    "\n",
    "df= pd.DataFrame(dicto)\n",
    "df.head()\n"
   ]
  },
  {
   "cell_type": "code",
   "execution_count": 23,
   "metadata": {},
   "outputs": [],
   "source": [
    "df.dropna(inplace=True)\n",
    "df['6-month-SMA']=df['4. close'].rolling(window=6).mean()\n",
    "df['12-month-SMA']=df['4. close'].rolling(window=12).mean()"
   ]
  },
  {
   "cell_type": "code",
   "execution_count": 24,
   "metadata": {},
   "outputs": [
    {
     "data": {
      "text/html": [
       "<div>\n",
       "<style scoped>\n",
       "    .dataframe tbody tr th:only-of-type {\n",
       "        vertical-align: middle;\n",
       "    }\n",
       "\n",
       "    .dataframe tbody tr th {\n",
       "        vertical-align: top;\n",
       "    }\n",
       "\n",
       "    .dataframe thead th {\n",
       "        text-align: right;\n",
       "    }\n",
       "</style>\n",
       "<table border=\"1\" class=\"dataframe\">\n",
       "  <thead>\n",
       "    <tr style=\"text-align: right;\">\n",
       "      <th></th>\n",
       "      <th>1. open</th>\n",
       "      <th>2. high</th>\n",
       "      <th>3. low</th>\n",
       "      <th>4. close</th>\n",
       "      <th>5. volume</th>\n",
       "      <th>6-month-SMA</th>\n",
       "      <th>12-month-SMA</th>\n",
       "    </tr>\n",
       "  </thead>\n",
       "  <tbody>\n",
       "    <tr>\n",
       "      <th>95</th>\n",
       "      <td>186.1253</td>\n",
       "      <td>186.4143</td>\n",
       "      <td>184.4512</td>\n",
       "      <td>185.7865</td>\n",
       "      <td>23695159</td>\n",
       "      <td>186.462450</td>\n",
       "      <td>186.848600</td>\n",
       "    </tr>\n",
       "    <tr>\n",
       "      <th>96</th>\n",
       "      <td>188.3475</td>\n",
       "      <td>188.8657</td>\n",
       "      <td>187.2015</td>\n",
       "      <td>187.4905</td>\n",
       "      <td>20778772</td>\n",
       "      <td>186.626867</td>\n",
       "      <td>186.954892</td>\n",
       "    </tr>\n",
       "    <tr>\n",
       "      <th>97</th>\n",
       "      <td>188.8258</td>\n",
       "      <td>189.3938</td>\n",
       "      <td>186.7929</td>\n",
       "      <td>187.9289</td>\n",
       "      <td>26212221</td>\n",
       "      <td>186.786300</td>\n",
       "      <td>187.045400</td>\n",
       "    </tr>\n",
       "    <tr>\n",
       "      <th>98</th>\n",
       "      <td>186.3606</td>\n",
       "      <td>188.9712</td>\n",
       "      <td>186.2712</td>\n",
       "      <td>188.6437</td>\n",
       "      <td>27989289</td>\n",
       "      <td>187.284100</td>\n",
       "      <td>187.162258</td>\n",
       "    </tr>\n",
       "    <tr>\n",
       "      <th>99</th>\n",
       "      <td>185.1793</td>\n",
       "      <td>186.0231</td>\n",
       "      <td>183.8591</td>\n",
       "      <td>185.9833</td>\n",
       "      <td>23211241</td>\n",
       "      <td>187.225550</td>\n",
       "      <td>187.000950</td>\n",
       "    </tr>\n",
       "  </tbody>\n",
       "</table>\n",
       "</div>"
      ],
      "text/plain": [
       "     1. open   2. high    3. low  4. close 5. volume  6-month-SMA  \\\n",
       "95  186.1253  186.4143  184.4512  185.7865  23695159   186.462450   \n",
       "96  188.3475  188.8657  187.2015  187.4905  20778772   186.626867   \n",
       "97  188.8258  189.3938  186.7929  187.9289  26212221   186.786300   \n",
       "98  186.3606  188.9712  186.2712  188.6437  27989289   187.284100   \n",
       "99  185.1793  186.0231  183.8591  185.9833  23211241   187.225550   \n",
       "\n",
       "    12-month-SMA  \n",
       "95    186.848600  \n",
       "96    186.954892  \n",
       "97    187.045400  \n",
       "98    187.162258  \n",
       "99    187.000950  "
      ]
     },
     "execution_count": 24,
     "metadata": {},
     "output_type": "execute_result"
    }
   ],
   "source": [
    "df.tail()"
   ]
  },
  {
   "cell_type": "code",
   "execution_count": 21,
   "metadata": {},
   "outputs": [
    {
     "data": {
      "text/plain": [
       "5    217.6600\n",
       "6    220.0300\n",
       "7    218.3700\n",
       "8    218.2400\n",
       "9    217.8800\n",
       "Name: 4. close, dtype: object"
      ]
     },
     "execution_count": 21,
     "metadata": {},
     "output_type": "execute_result"
    }
   ],
   "source": [
    "df['4. close'].head()"
   ]
  },
  {
   "cell_type": "code",
   "execution_count": 25,
   "metadata": {},
   "outputs": [
    {
     "data": {
      "text/plain": [
       "<matplotlib.axes._subplots.AxesSubplot at 0x10ee8d0f0>"
      ]
     },
     "execution_count": 25,
     "metadata": {},
     "output_type": "execute_result"
    },
    {
     "data": {
      "image/png": "[encoded data removed]",
      "text/plain": [
       "<Figure size 432x288 with 1 Axes>"
      ]
     },
     "metadata": {},
     "output_type": "display_data"
    }
   ],
   "source": [
    "df.plot()"
   ]
  },
  {
   "cell_type": "code",
   "execution_count": null,
   "metadata": {},
   "outputs": [],
   "source": []
  }
 ],
 "metadata": {
  "kernelspec": {
   "display_name": "Python 3",
   "language": "python",
   "name": "python3"
  },
  "language_info": {
   "codemirror_mode": {
    "name": "ipython",
    "version": 3
   },
   "file_extension": ".py",
   "mimetype": "text/x-python",
   "name": "python",
   "nbconvert_exporter": "python",
   "pygments_lexer": "ipython3",
   "version": "3.6.5"
  }
 },
 "nbformat": 4,
 "nbformat_minor": 2
}
