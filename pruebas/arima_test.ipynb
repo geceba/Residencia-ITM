{
 "cells": [
  {
   "cell_type": "code",
   "execution_count": 1,
   "metadata": {},
   "outputs": [
    {
     "name": "stdout",
     "output_type": "stream",
     "text": [
      "1901-01-01 00:00:00\n",
      "1901-02-01 00:00:00\n",
      "1901-03-01 00:00:00\n",
      "1901-04-01 00:00:00\n",
      "1901-05-01 00:00:00\n",
      "1901-06-01 00:00:00\n",
      "1901-07-01 00:00:00\n",
      "1901-08-01 00:00:00\n",
      "1901-09-01 00:00:00\n",
      "1901-10-01 00:00:00\n",
      "1901-11-01 00:00:00\n",
      "1901-12-01 00:00:00\n",
      "1902-01-01 00:00:00\n",
      "1902-02-01 00:00:00\n",
      "1902-03-01 00:00:00\n",
      "1902-04-01 00:00:00\n",
      "1902-05-01 00:00:00\n",
      "1902-06-01 00:00:00\n",
      "1902-07-01 00:00:00\n",
      "1902-08-01 00:00:00\n",
      "1902-09-01 00:00:00\n",
      "1902-10-01 00:00:00\n",
      "1902-11-01 00:00:00\n",
      "1902-12-01 00:00:00\n",
      "1903-01-01 00:00:00\n",
      "1903-02-01 00:00:00\n",
      "1903-03-01 00:00:00\n",
      "1903-04-01 00:00:00\n",
      "1903-05-01 00:00:00\n",
      "1903-06-01 00:00:00\n",
      "1903-07-01 00:00:00\n",
      "1903-08-01 00:00:00\n",
      "1903-09-01 00:00:00\n",
      "1903-10-01 00:00:00\n",
      "1903-11-01 00:00:00\n",
      "1903-12-01 00:00:00\n",
      "predicted=349.117636, expected=342.300000\n",
      "predicted=306.513010, expected=339.700000\n",
      "predicted=387.376466, expected=440.400000\n",
      "predicted=348.154255, expected=315.900000\n",
      "predicted=386.308811, expected=439.300000\n",
      "predicted=356.082028, expected=401.300000\n",
      "predicted=446.379518, expected=437.400000\n",
      "predicted=394.737242, expected=575.500000\n",
      "predicted=434.915541, expected=407.600000\n",
      "predicted=507.923456, expected=682.000000\n",
      "predicted=435.482818, expected=475.300000\n",
      "predicted=652.743768, expected=581.300000\n",
      "predicted=546.343465, expected=646.900000\n",
      "Test MSE: 6958.327\n"
     ]
    },
    {
     "data": {
      "text/plain": [
       "[<matplotlib.lines.Line2D at 0x1c1c8cdb70>]"
      ]
     },
     "execution_count": 1,
     "metadata": {},
     "output_type": "execute_result"
    }
   ],
   "source": [
    "\n",
    "from pandas import read_csv\n",
    "from pandas import datetime\n",
    "from matplotlib import pyplot\n",
    "from statsmodels.tsa.arima_model import ARIMA\n",
    "from sklearn.metrics import mean_squared_error\n",
    " \n",
    "def parser(x):\n",
    "    print(datetime.strptime('190'+x, '%Y-%m'))\n",
    "    return datetime.strptime('190'+x, '%Y-%m')\n",
    " \n",
    "series = read_csv('shampoo.csv', header=0, parse_dates=[0], index_col=0, squeeze=True, date_parser=parser)\n",
    "\n",
    "X = series.values\n",
    "size = int(len(X) * 0.66)\n",
    "train, test = X[0:size], X[size:len(X)]\n",
    "history = [x for x in train]\n",
    "predictions = list()\n",
    "for t in range(len(test)):\n",
    "\tmodel = ARIMA(history, order=(5,1,0))\n",
    "\tmodel_fit = model.fit(disp=0)\n",
    "\toutput = model_fit.forecast()\n",
    "\tyhat = output[0]\n",
    "\tpredictions.append(yhat)\n",
    "\tobs = test[t]\n",
    "\thistory.append(obs)\n",
    "\tprint('predicted=%f, expected=%f' % (yhat, obs))\n",
    "error = mean_squared_error(test, predictions)\n",
    "print('Test MSE: %.3f' % error)\n",
    "# plot\n",
    "pyplot.plot(test)\n",
    "pyplot.plot(predictions, color='red')\n"
   ]
  },
  {
   "cell_type": "code",
   "execution_count": 2,
   "metadata": {},
   "outputs": [
    {
     "data": {
      "text/plain": [
       "Month\n",
       "1901-01-01    266.0\n",
       "1901-02-01    145.9\n",
       "1901-03-01    183.1\n",
       "1901-04-01    119.3\n",
       "1901-05-01    180.3\n",
       "Name: Sales, dtype: float64"
      ]
     },
     "execution_count": 2,
     "metadata": {},
     "output_type": "execute_result"
    }
   ],
   "source": [
    "series.head()"
   ]
  },
  {
   "cell_type": "code",
   "execution_count": 3,
   "metadata": {},
   "outputs": [
    {
     "data": {
      "text/plain": [
       "[<matplotlib.lines.Line2D at 0x1c1c9ab128>]"
      ]
     },
     "execution_count": 3,
     "metadata": {},
     "output_type": "execute_result"
    },
    {
     "data": {
      "image/png": "[encoded data removed]",
      "text/plain": [
       "<Figure size 432x288 with 1 Axes>"
      ]
     },
     "metadata": {},
     "output_type": "display_data"
    }
   ],
   "source": [
    "pyplot.plot(predictions, color='red')"
   ]
  }
 ],
 "metadata": {
  "kernelspec": {
   "display_name": "Python 3",
   "language": "python",
   "name": "python3"
  },
  "language_info": {
   "codemirror_mode": {
    "name": "ipython",
    "version": 3
   },
   "file_extension": ".py",
   "mimetype": "text/x-python",
   "name": "python",
   "nbconvert_exporter": "python",
   "pygments_lexer": "ipython3",
   "version": "3.6.5"
  }
 },
 "nbformat": 4,
 "nbformat_minor": 2
}
