{
 "cells": [
  {
   "cell_type": "code",
   "execution_count": 1,
   "metadata": {},
   "outputs": [
    {
     "name": "stderr",
     "output_type": "stream",
     "text": [
      "/anaconda3/lib/python3.6/site-packages/h5py/__init__.py:36: FutureWarning: Conversion of the second argument of issubdtype from `float` to `np.floating` is deprecated. In future, it will be treated as `np.float64 == np.dtype(float).type`.\n",
      "  from ._conv import register_converters as _register_converters\n"
     ]
    }
   ],
   "source": [
    "import tensorflow as tf\n",
    "\n",
    "import numpy as np\n",
    "import matplotlib.pyplot as plt\n",
    "import matplotlib.cm as cm\n",
    "\n",
    "import pandas as pd\n",
    "\n",
    "%matplotlib inline"
   ]
  },
  {
   "cell_type": "code",
   "execution_count": 4,
   "metadata": {},
   "outputs": [],
   "source": [
    "# Creacion de constantes\n",
    "# El valor que retorna el constructos es el valor de la constante\n",
    "\n",
    "# Creamos constantes a=2 y b=3\n",
    "a = tf.constant(2)\n",
    "b = tf.constant(3)\n",
    "# Creamos matrices de 3x3\n",
    "\n",
    "matriz1 = tf.constant([[1,3,2], [1,0,0], [1,2,2]])\n",
    "matriz2 = tf.constant([[1,0,5], [7,5,0],[2,1,1]])"
   ]
  },
  {
   "cell_type": "code",
   "execution_count": 7,
   "metadata": {},
   "outputs": [],
   "source": [
    "# Realizamos algunos cáculos con estas constantes\n",
    "suma = tf.add(a,b)\n",
    "mult = tf.multiply(a,b)\n",
    "cubo_a = a**3\n",
    "\n",
    "# suma de matrices \n",
    "suma_mat = tf.add(matriz1, matriz2)\n",
    "\n",
    "# producto de matrices\n",
    "mult_mat = tf.matmul(matriz1, matriz2)"
   ]
  },
  {
   "cell_type": "code",
   "execution_count": 9,
   "metadata": {},
   "outputs": [
    {
     "name": "stdout",
     "output_type": "stream",
     "text": [
      "Suma de las constantes: 5\n",
      "Multiplicación de las constantes: 6\n",
      "Constante elevada al cubo: 8\n",
      "Suma de matrices: \n",
      "[[2 3 7]\n",
      " [8 5 0]\n",
      " [3 3 3]]\n",
      "Producto de matrices: \n",
      "[[26 17  7]\n",
      " [ 1  0  5]\n",
      " [19 12  7]]\n"
     ]
    }
   ],
   "source": [
    "# Todo en tensorflowocurre dentro de una sesión\n",
    "\n",
    "# creamos la sesion y realizamos algunas operaciones con las constantes\n",
    "# y lanzamos la sesión\n",
    "\n",
    "with tf.Session() as sess:\n",
    "    print(\"Suma de las constantes: {}\".format(sess.run(suma)))\n",
    "    print(\"Multiplicación de las constantes: {}\". format(sess.run(mult)))\n",
    "    print(\"Constante elevada al cubo: {}\".format(sess.run(cubo_a)))\n",
    "    print(\"Suma de matrices: \\n{}\".format(sess.run(suma_mat)))\n",
    "    print(\"Producto de matrices: \\n{}\".format(sess.run(mult_mat)))"
   ]
  },
  {
   "cell_type": "code",
   "execution_count": 11,
   "metadata": {},
   "outputs": [
    {
     "name": "stdout",
     "output_type": "stream",
     "text": [
      "0\n",
      "1\n",
      "2\n",
      "3\n"
     ]
    }
   ],
   "source": [
    "# Variables persistentes\n",
    "\n",
    "# creamos una variable y la inicializamos con 0\n",
    "estado = tf.Variable(0, name=\"contador\")\n",
    "\n",
    "# Creamos la op que le va a sumar uno a la Variable estado\n",
    "\n",
    "uno = tf.constant(1)\n",
    "nuevo_valor = tf.add(estado, uno)\n",
    "actualizar = tf.assign(estado, nuevo_valor)\n",
    "\n",
    "# Las variables deben ser inicializadas por la operacion init luego de \n",
    "# lanzar el grafo. Debemos agregar la op init a nuestro grafo\n",
    "init = tf.global_variables_initializer()\n",
    "\n",
    "# lanzamos la sesion y ejecutamos las operaciones\n",
    "with tf.Session() as sess:\n",
    "    # Ejecutamos la op init\n",
    "    sess.run(init)\n",
    "    #imprimir el valor de la variable estado\n",
    "    print(sess.run(estado))\n",
    "    # ejcutamos la op que va a actualizar a estado\n",
    "    for _ in range(3):\n",
    "        sess.run(actualizar)\n",
    "        print(sess.run(estado))"
   ]
  },
  {
   "cell_type": "code",
   "execution_count": 14,
   "metadata": {},
   "outputs": [
    {
     "name": "stdout",
     "output_type": "stream",
     "text": [
      "[[1.125122   0.83877337 0.9310026  1.0142438 ]\n",
      " [1.0867037  0.6419584  0.60527205 0.7598926 ]\n",
      " [0.721156   0.5856165  0.7069878  0.6357784 ]\n",
      " [0.7691011  0.65283394 0.5084772  0.6175576 ]]\n"
     ]
    }
   ],
   "source": [
    "# variables simbólicas (contenedores)\n",
    "# ejemplo variables simbolicas en los grafos\n",
    "# el valor que ddevuelve el constructor representa la salida de la \n",
    "# variable (la entrada de la variable se define en la sesion)\n",
    "\n",
    "# creamos un contenedor del tipo float. Un tensor de 4x4\n",
    "x = tf.placeholder(tf.float32, shape=(4,4))\n",
    "y = tf.matmul(x, x)\n",
    "\n",
    "with tf.Session() as sess:\n",
    "    # print(sess.run(y)) # Error:va a fallar porque no alimentamos a x\n",
    "    rand_array = np.random.rand(4, 4)\n",
    "    print(sess.run(y, feed_dict={x: rand_array})) # ahora esta correcto"
   ]
  },
  {
   "cell_type": "code",
   "execution_count": 15,
   "metadata": {},
   "outputs": [],
   "source": [
    "# ejemplo de neuronas simples \n",
    "\n",
    "\n",
    "# Neurona con tensorflow\n",
    "# Defino las entradas \n",
    "entradas = tf.placeholder(\"float\", name='Entradas')\n",
    "datos = np.array([[0,0],[1,0],[0,1],[1,1]])\n",
    "\n",
    "# defino las salidas \n",
    "uno = lambda: tf.constant(1.0)\n",
    "cero = lambda: tf.constant(0.0)\n",
    "\n",
    "with tf.name_scope('Pesos'):\n",
    "    # Definiendo pesos y sesgo\n",
    "    pesos = tf.placeholder(\"float\", name=\"Pesos\")\n",
    "    sesgo = tf.placeholder(\"float\", name='Sesgo')\n",
    "\n",
    "with tf.name_scope('Activacion'):\n",
    "    # Funcion de activacion\n",
    "    activacion = tf.reduce_sum(tf.add(tf.matmul(entradas,pesos), sesgo))\n",
    "    \n",
    "with tf.name_scope('Neurona'):\n",
    "    # defino la neurona\n",
    "    def neurona():\n",
    "        return tf.case([(tf.less(activacion, 0.0), cero)], default=uno)\n",
    "    \n",
    "    # salida\n",
    "    a = neurona()\n",
    "# path de logs\n",
    "logs_path = '/tmp/tensorflow_logs/neurona'"
   ]
  },
  {
   "cell_type": "code",
   "execution_count": 22,
   "metadata": {},
   "outputs": [
    {
     "name": "stdout",
     "output_type": "stream",
     "text": [
      "    x1   x2  f(x)  x1 AND x2\n",
      "0  0.0  0.0  -1.5        0.0\n",
      "1  1.0  0.0  -0.5        0.0\n",
      "2  0.0  1.0  -0.5        0.0\n",
      "3  1.0  1.0   0.5        1.0\n"
     ]
    }
   ],
   "source": [
    "# lanzar la Sesion\n",
    "with tf.Session() as sess:\n",
    "    # para armar el grafo\n",
    "    summary_writer = tf.summary.FileWriter(logs_path, graph=sess.graph)\n",
    "    \n",
    "    # para armar la tabla de verdad\n",
    "    x_1 = []\n",
    "    x_2 = []\n",
    "    out = []\n",
    "    act = []\n",
    "    \n",
    "    for i in range(len(datos)):\n",
    "        t = datos[i].reshape(1,2)\n",
    "        salida, activ = sess.run([a, activacion], feed_dict={entradas: t, pesos:np.array([[1.],[1.]]), sesgo: -1.5})\n",
    "        \n",
    "        # armar tabla de verdad en DataFrame\n",
    "        x_1.append(t[0][0])\n",
    "        x_2.append(t[0][1])\n",
    "        out.append(salida)\n",
    "        act.append(activ)\n",
    "        \n",
    "    tabla_info = np.array([x_1, x_2, act, out]).transpose()\n",
    "    tabla = pd.DataFrame(tabla_info, columns=['x1', 'x2', 'f(x)', 'x1 AND x2'])\n",
    "    \n",
    "    print(tabla)\n",
    "    \"\"\"\n",
    "    Aquí podemos ver los datos de entrada de x1 y x2, el resultado de la función de activación y la decisión final \n",
    "    que toma la neurona de acuerdo este último resultado. Como podemos ver en la tabla de verdad, \n",
    "    la neurona nos dice que x1 and x2 solo es verdad cuando ambos son verdaderos, lo que es correcto.\n",
    "    \"\"\""
   ]
  },
  {
   "cell_type": "code",
   "execution_count": 23,
   "metadata": {},
   "outputs": [
    {
     "name": "stdout",
     "output_type": "stream",
     "text": [
      "    x1   x2  f(x)  x1 AND x2\n",
      "0  0.0  0.0  -0.5        0.0\n",
      "1  1.0  0.0   0.5        1.0\n",
      "2  0.0  1.0   0.5        1.0\n",
      "3  1.0  1.0   1.5        1.0\n"
     ]
    }
   ],
   "source": [
    "# Nuerona OR\n",
    "\"\"\"\n",
    "salida de neurona => a = f(-0.5+x1+x2)\n",
    "\"\"\"\n",
    "\n",
    "#Neurona OR, solo cambiamos el valor del sesgo\n",
    "with tf.Session() as sess:\n",
    "    summary_writer = tf.summary.FileWriter(logs_path, graph=sess.graph)\n",
    "    \n",
    "    # para armar la tabla\n",
    "    x_1 = []\n",
    "    x_2 = []\n",
    "    out = []\n",
    "    act = []\n",
    "    \n",
    "    for i in range(len(datos)):\n",
    "        t = datos[i].reshape(1,2)\n",
    "        salida, activ = sess.run([a, activacion], feed_dict={entradas: t, pesos:np.array([[1.],[1.]]), sesgo: -0.5}) # sesgo ahora -0.5\n",
    "        \n",
    "        # armar tabla de verdad en DataFrame\n",
    "        x_1.append(t[0][0])\n",
    "        x_2.append(t[0][1])\n",
    "        out.append(salida)\n",
    "        act.append(activ)\n",
    "        \n",
    "    tabla_info = np.array([x_1, x_2, act, out]).transpose()\n",
    "    tabla = pd.DataFrame(tabla_info, columns=['x1', 'x2', 'f(x)', 'x1 AND x2'])\n",
    "    \n",
    "    print(tabla)"
   ]
  },
  {
   "cell_type": "code",
   "execution_count": null,
   "metadata": {},
   "outputs": [],
   "source": []
  }
 ],
 "metadata": {
  "kernelspec": {
   "display_name": "Python 3",
   "language": "python",
   "name": "python3"
  },
  "language_info": {
   "codemirror_mode": {
    "name": "ipython",
    "version": 3
   },
   "file_extension": ".py",
   "mimetype": "text/x-python",
   "name": "python",
   "nbconvert_exporter": "python",
   "pygments_lexer": "ipython3",
   "version": "3.6.5"
  }
 },
 "nbformat": 4,
 "nbformat_minor": 2
}
