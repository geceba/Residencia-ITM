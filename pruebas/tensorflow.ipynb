{
 "cells": [
  {
   "cell_type": "code",
   "execution_count": 1,
   "metadata": {},
   "outputs": [
    {
     "name": "stderr",
     "output_type": "stream",
     "text": [
      "/anaconda3/lib/python3.6/site-packages/h5py/__init__.py:36: FutureWarning: Conversion of the second argument of issubdtype from `float` to `np.floating` is deprecated. In future, it will be treated as `np.float64 == np.dtype(float).type`.\n",
      "  from ._conv import register_converters as _register_converters\n"
     ]
    }
   ],
   "source": [
    "import tensorflow as tf\n",
    "\n",
    "import numpy as np\n",
    "import matplotlib.pyplot as plt\n",
    "import matplotlib.cm as cm\n",
    "\n",
    "import pandas as pd\n",
    "\n",
    "%matplotlib inline"
   ]
  },
  {
   "cell_type": "code",
   "execution_count": 4,
   "metadata": {},
   "outputs": [],
   "source": [
    "# Creacion de constantes\n",
    "# El valor que retorna el constructos es el valor de la constante\n",
    "\n",
    "# Creamos constantes a=2 y b=3\n",
    "a = tf.constant(2)\n",
    "b = tf.constant(3)\n",
    "# Creamos matrices de 3x3\n",
    "\n",
    "matriz1 = tf.constant([[1,3,2], [1,0,0], [1,2,2]])\n",
    "matriz2 = tf.constant([[1,0,5], [7,5,0],[2,1,1]])"
   ]
  },
  {
   "cell_type": "code",
   "execution_count": 7,
   "metadata": {},
   "outputs": [],
   "source": [
    "# Realizamos algunos cáculos con estas constantes\n",
    "suma = tf.add(a,b)\n",
    "mult = tf.multiply(a,b)\n",
    "cubo_a = a**3\n",
    "\n",
    "# suma de matrices \n",
    "suma_mat = tf.add(matriz1, matriz2)\n",
    "\n",
    "# producto de matrices\n",
    "mult_mat = tf.matmul(matriz1, matriz2)"
   ]
  },
  {
   "cell_type": "code",
   "execution_count": 9,
   "metadata": {},
   "outputs": [
    {
     "name": "stdout",
     "output_type": "stream",
     "text": [
      "Suma de las constantes: 5\n",
      "Multiplicación de las constantes: 6\n",
      "Constante elevada al cubo: 8\n",
      "Suma de matrices: \n",
      "[[2 3 7]\n",
      " [8 5 0]\n",
      " [3 3 3]]\n",
      "Producto de matrices: \n",
      "[[26 17  7]\n",
      " [ 1  0  5]\n",
      " [19 12  7]]\n"
     ]
    }
   ],
   "source": [
    "# Todo en tensorflowocurre dentro de una sesión\n",
    "\n",
    "# creamos la sesion y realizamos algunas operaciones con las constantes\n",
    "# y lanzamos la sesión\n",
    "\n",
    "with tf.Session() as sess:\n",
    "    print(\"Suma de las constantes: {}\".format(sess.run(suma)))\n",
    "    print(\"Multiplicación de las constantes: {}\". format(sess.run(mult)))\n",
    "    print(\"Constante elevada al cubo: {}\".format(sess.run(cubo_a)))\n",
    "    print(\"Suma de matrices: \\n{}\".format(sess.run(suma_mat)))\n",
    "    print(\"Producto de matrices: \\n{}\".format(sess.run(mult_mat)))"
   ]
  },
  {
   "cell_type": "code",
   "execution_count": null,
   "metadata": {},
   "outputs": [],
   "source": []
  }
 ],
 "metadata": {
  "kernelspec": {
   "display_name": "Python 3",
   "language": "python",
   "name": "python3"
  },
  "language_info": {
   "codemirror_mode": {
    "name": "ipython",
    "version": 3
   },
   "file_extension": ".py",
   "mimetype": "text/x-python",
   "name": "python",
   "nbconvert_exporter": "python",
   "pygments_lexer": "ipython3",
   "version": "3.6.5"
  }
 },
 "nbformat": 4,
 "nbformat_minor": 2
}
